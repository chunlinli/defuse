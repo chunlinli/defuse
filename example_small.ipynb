{
 "cells": [
  {
   "cell_type": "code",
   "execution_count": 1,
   "metadata": {},
   "outputs": [
    {
     "name": "stdout",
     "output_type": "stream",
     "text": [
      "Simulation |████████████████████████████████████████| 50/50 [100%] in 43:18.1 (0.02/s)                                  \n",
      "    Simulation summary: \n",
      "     FDR: 0.041 +- 0.066\n",
      "     TPR: 0.948 +- 0.062\n",
      "     FPR: 0.001 +- 0.001\n",
      "     SHD: 0.760 +- 0.971\n"
     ]
    }
   ],
   "source": [
    "import numpy as np\n",
    "import pandas as pd\n",
    "from defuse.defuse import Defuse\n",
    "from defuse.utils import set_random_seed, simulate_dag, simulate_data, count_accuracy\n",
    "from alive_progress import alive_bar\n",
    "\n",
    "set_random_seed(1110)\n",
    "\n",
    "d = 30\n",
    "n = 500\n",
    "graph_type = 'random'\n",
    "sem_type = 'poly-trig'\n",
    "num_simulations = 50\n",
    "\n",
    "A = simulate_dag(d, graph_type)\n",
    "X, cf, fn = simulate_data(A, n, sem_type)\n",
    "\n",
    "results = {'fdr': [], 'tpr': [], 'fpr': [], 'shd': []}\n",
    "\n",
    "with alive_bar(num_simulations, force_tty = True, title='Simulation') as bar:\n",
    "    for _ in range(num_simulations):\n",
    "        X, _, _ = simulate_data(A, n, sem_type, coefficient=cf, functions=fn)\n",
    "        m = Defuse()\n",
    "        A_est, _ = m.fit(X, verbose=False)\n",
    "        result = count_accuracy(A, A_est)\n",
    "        results['fdr'].append(result['fdr'])\n",
    "        results['tpr'].append(result['tpr'])\n",
    "        results['fpr'].append(result['fpr'])\n",
    "        results['shd'].append(result['shd'])\n",
    "        bar()\n",
    "\n",
    "df = pd.DataFrame(results)\n",
    "df.to_csv(f'simulation_{graph_type}_small.csv', index=False)\n",
    "\n",
    "fdr = np.mean(results['fdr'])\n",
    "tpr = np.mean(results['tpr'])\n",
    "fpr = np.mean(results['fpr'])\n",
    "shd = np.mean(results['shd'])\n",
    "\n",
    "fdr_sd = np.std(results['fdr'])\n",
    "tpr_sd = np.std(results['tpr'])\n",
    "fpr_sd = np.std(results['fpr'])\n",
    "shd_sd = np.std(results['shd'])\n",
    "\n",
    "print(f'\\\n",
    "    Simulation summary: \\n \\\n",
    "    FDR: {fdr:.3f} +- {fdr_sd:.3f}\\n \\\n",
    "    TPR: {tpr:.3f} +- {tpr_sd:.3f}\\n \\\n",
    "    FPR: {fpr:.3f} +- {fpr_sd:.3f}\\n \\\n",
    "    SHD: {shd:.3f} +- {shd_sd:.3f}')"
   ]
  },
  {
   "cell_type": "code",
   "execution_count": 2,
   "metadata": {},
   "outputs": [
    {
     "name": "stdout",
     "output_type": "stream",
     "text": [
      "Simulation |████████████████████████████████████████| 50/50 [100%] in 2:15:11.2 (0.01/s)                                \n",
      "    Simulation summary: \n",
      "     FDR: 0.030 +- 0.033\n",
      "     TPR: 0.954 +- 0.086\n",
      "     FPR: 0.002 +- 0.002\n",
      "     SHD: 2.200 +- 2.898\n"
     ]
    }
   ],
   "source": [
    "set_random_seed(1110)\n",
    "\n",
    "graph_type = 'hub'\n",
    "sem_type = 'poly-trig'\n",
    "\n",
    "A = simulate_dag(d, graph_type)\n",
    "X, cf, fn = simulate_data(A, n, sem_type)\n",
    "\n",
    "results = {'fdr': [], 'tpr': [], 'fpr': [], 'shd': []}\n",
    "\n",
    "with alive_bar(num_simulations, force_tty = True, title='Simulation') as bar:\n",
    "    for _ in range(num_simulations):\n",
    "        X, _, _ = simulate_data(A, n, sem_type, coefficient=cf, functions=fn)\n",
    "        m = Defuse()\n",
    "        A_est, _ = m.fit(X, verbose=False)\n",
    "        result = count_accuracy(A, A_est)\n",
    "        results['fdr'].append(result['fdr'])\n",
    "        results['tpr'].append(result['tpr'])\n",
    "        results['fpr'].append(result['fpr'])\n",
    "        results['shd'].append(result['shd'])\n",
    "        bar()\n",
    "\n",
    "df = pd.DataFrame(results)\n",
    "df.to_csv(f'simulation_{graph_type}_small.csv', index=False)\n",
    "\n",
    "fdr = np.mean(results['fdr'])\n",
    "tpr = np.mean(results['tpr'])\n",
    "fpr = np.mean(results['fpr'])\n",
    "shd = np.mean(results['shd'])\n",
    "\n",
    "fdr_sd = np.std(results['fdr'])\n",
    "tpr_sd = np.std(results['tpr'])\n",
    "fpr_sd = np.std(results['fpr'])\n",
    "shd_sd = np.std(results['shd'])\n",
    "\n",
    "print(f'\\\n",
    "    Simulation summary: \\n \\\n",
    "    FDR: {fdr:.3f} +- {fdr_sd:.3f}\\n \\\n",
    "    TPR: {tpr:.3f} +- {tpr_sd:.3f}\\n \\\n",
    "    FPR: {fpr:.3f} +- {fpr_sd:.3f}\\n \\\n",
    "    SHD: {shd:.3f} +- {shd_sd:.3f}')"
   ]
  }
 ],
 "metadata": {
  "interpreter": {
   "hash": "e5cb09b4f09bc0b13794f079e18245ac302c34644e2cfdfec8b5b78acc49cb07"
  },
  "kernelspec": {
   "display_name": "Python 3.8.13 ('dag')",
   "language": "python",
   "name": "python3"
  },
  "language_info": {
   "codemirror_mode": {
    "name": "ipython",
    "version": 3
   },
   "file_extension": ".py",
   "mimetype": "text/x-python",
   "name": "python",
   "nbconvert_exporter": "python",
   "pygments_lexer": "ipython3",
   "version": "3.8.13"
  },
  "orig_nbformat": 4
 },
 "nbformat": 4,
 "nbformat_minor": 2
}
